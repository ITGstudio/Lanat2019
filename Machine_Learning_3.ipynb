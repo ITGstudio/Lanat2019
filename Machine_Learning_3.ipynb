{
  "nbformat": 4,
  "nbformat_minor": 0,
  "metadata": {
    "colab": {
      "name": "Machine Learning 3.ipynb",
      "version": "0.3.2",
      "provenance": [],
      "collapsed_sections": [],
      "include_colab_link": true
    },
    "kernelspec": {
      "name": "python3",
      "display_name": "Python 3"
    },
    "accelerator": "GPU"
  },
  "cells": [
    {
      "cell_type": "markdown",
      "metadata": {
        "id": "view-in-github",
        "colab_type": "text"
      },
      "source": [
        "<a href=\"https://colab.research.google.com/github/LotusBro98/Lanat2019/blob/master/Machine_Learning_3.ipynb\" target=\"_parent\"><img src=\"https://colab.research.google.com/assets/colab-badge.svg\" alt=\"Open In Colab\"/></a>"
      ]
    },
    {
      "cell_type": "markdown",
      "metadata": {
        "id": "TSb6eEZL8zhp",
        "colab_type": "text"
      },
      "source": [
        "# Машинное обучение\n",
        "## Идентификация объектов\n",
        "\n",
        "---\n",
        "\n",
        "<img width=\"100%\" src=\"https://i.pinimg.com/736x/83/d2/14/83d214b253298e3eb191d071921d7cc1.jpg\" />\n",
        "\n",
        "---"
      ]
    },
    {
      "cell_type": "code",
      "metadata": {
        "id": "gqb0cCGRBdxh",
        "colab_type": "code",
        "colab": {}
      },
      "source": [
        "import tensorflow as tf\n",
        "tf.enable_eager_execution()\n",
        "\n",
        "import numpy as np\n",
        "import matplotlib.pyplot as plt\n",
        "\n",
        "%matplotlib inline"
      ],
      "execution_count": 0,
      "outputs": []
    },
    {
      "cell_type": "markdown",
      "metadata": {
        "id": "gVsSvaCu5CVi",
        "colab_type": "text"
      },
      "source": [
        "Загружаем датасет"
      ]
    },
    {
      "cell_type": "code",
      "metadata": {
        "id": "lLCcunVUBlWm",
        "colab_type": "code",
        "colab": {}
      },
      "source": [
        "(train_images, train_labels), (test_images, test_labels) = tf.keras.datasets.fashion_mnist.load_data()\n",
        "\n",
        "class_names = ['T-shirt/top', 'Trouser', 'Pullover', 'Dress', 'Coat',\n",
        "               'Sandal', 'Shirt', 'Sneaker', 'Bag', 'Ankle boot']\n",
        "N_CLASSES = len(class_names)"
      ],
      "execution_count": 0,
      "outputs": []
    },
    {
      "cell_type": "markdown",
      "metadata": {
        "id": "HBacuYgo5F0A",
        "colab_type": "text"
      },
      "source": [
        "Визуализируем датасет"
      ]
    },
    {
      "cell_type": "code",
      "metadata": {
        "id": "MyDkkPqn5Ivz",
        "colab_type": "code",
        "colab": {}
      },
      "source": [
        "for i in range(3):\n",
        "  plt.figure()\n",
        "  plt.imshow(train_images[i])\n",
        "  plt.colorbar()\n",
        "  plt.grid(False)\n",
        "  plt.show()\n",
        "\n",
        "  print(train_labels[i], \": \", class_names[train_labels[i]])\n",
        "  print()"
      ],
      "execution_count": 0,
      "outputs": []
    },
    {
      "cell_type": "markdown",
      "metadata": {
        "id": "E033mzGL5JRv",
        "colab_type": "text"
      },
      "source": [
        "Приводим к виду, пригодному для обучения"
      ]
    },
    {
      "cell_type": "code",
      "metadata": {
        "id": "Qb68AH194xWd",
        "colab_type": "code",
        "colab": {}
      },
      "source": [
        "# Масштабируем от -1 до 1\n",
        "X_train = train_images / 127.5 - 1\n",
        "# Добавляем размерность для цветовых каналов (у нас он только 1)\n",
        "X_train = tf.expand_dims(X_train, axis=-1)\n",
        "\n",
        "# каждое число заменяем вектором, в котором все нули, кроме указанного\n",
        "Y_train = tf.one_hot(train_labels, N_CLASSES)\n",
        "\n",
        "X_test = test_images / 127.5 - 1\n",
        "X_test = tf.expand_dims(X_test, axis=-1)\n",
        "X_test = tf.cast(X_test, tf.float32)\n",
        "Y_test = tf.one_hot(train_labels, N_CLASSES)\n",
        "\n",
        "# Нарисуем первые 3 элемента для наглядности\n",
        "for i in range(3):\n",
        "  plt.imshow(X_train[i,:,:,0])\n",
        "  plt.colorbar()\n",
        "  plt.grid(False)\n",
        "  plt.show()\n",
        "  \n",
        "  print(Y_train[i].numpy())\n",
        "  print(class_names[np.argmax(Y_train[i].numpy())])\n",
        "  print()"
      ],
      "execution_count": 0,
      "outputs": []
    },
    {
      "cell_type": "markdown",
      "metadata": {
        "id": "F2ZjQz3j8OR6",
        "colab_type": "text"
      },
      "source": [
        "Датасет готов"
      ]
    },
    {
      "cell_type": "markdown",
      "metadata": {
        "id": "P7ukYHul7_4Z",
        "colab_type": "text"
      },
      "source": [
        "## Построим модель сверточной нейросети для классификации (LeNet)"
      ]
    },
    {
      "cell_type": "code",
      "metadata": {
        "id": "xGg3B09m_E5r",
        "colab_type": "code",
        "colab": {}
      },
      "source": [
        "def build_LeNet():\n",
        "  inputs = tf.keras.layers.Input(shape=[28, 28, 1])\n",
        "  x = inputs\n",
        "\n",
        "  x = tf.keras.layers.Convolution2D(64, 3)(x)\n",
        "  x = tf.keras.layers.MaxPooling2D(2, 2)(x)\n",
        "\n",
        "  x = tf.keras.layers.Convolution2D(32, 3)(x)\n",
        "  x = tf.keras.layers.MaxPooling2D(2, 2)(x)\n",
        "\n",
        "  x = tf.keras.layers.Flatten()(x)\n",
        "  \n",
        "  x = tf.keras.layers.Dense(200, activation='relu')(x)\n",
        "  x = tf.keras.layers.Dense(N_CLASSES, activation='softmax')(x)\n",
        "\n",
        "  model = tf.keras.Model(inputs = inputs, outputs = x)\n",
        "  return model\n",
        "\n",
        "\n",
        "model = build_LeNet()"
      ],
      "execution_count": 0,
      "outputs": []
    },
    {
      "cell_type": "markdown",
      "metadata": {
        "id": "YJmN-eOlAujm",
        "colab_type": "text"
      },
      "source": [
        "Выберем лосс-функцию и оптимизатор и подготовим модель к обучению."
      ]
    },
    {
      "cell_type": "code",
      "metadata": {
        "id": "w9WI1-dMArgC",
        "colab_type": "code",
        "colab": {}
      },
      "source": [
        "model.compile(optimizer='adam', loss='mse', metrics=['accuracy'])"
      ],
      "execution_count": 0,
      "outputs": []
    },
    {
      "cell_type": "markdown",
      "metadata": {
        "id": "vAZyrjCUB9eU",
        "colab_type": "text"
      },
      "source": [
        "Запустим обучение"
      ]
    },
    {
      "cell_type": "code",
      "metadata": {
        "id": "7Iq_4EidB_im",
        "colab_type": "code",
        "colab": {}
      },
      "source": [
        "model.fit(X_train, Y_train, epochs=20, batch_size=100)"
      ],
      "execution_count": 0,
      "outputs": []
    },
    {
      "cell_type": "markdown",
      "metadata": {
        "id": "NqDAOofiCooD",
        "colab_type": "text"
      },
      "source": [
        "## Проверим обученную нейросеть"
      ]
    },
    {
      "cell_type": "code",
      "metadata": {
        "id": "0gv4MFx-Cs2D",
        "colab_type": "code",
        "colab": {}
      },
      "source": [
        "ind = np.random.randint(0, len(test_images))\n",
        "img = X_test[ind:ind+1]\n",
        "label_real = test_labels[ind]\n",
        "\n",
        "# Рисуем картинку\n",
        "plt.imshow(img[0, :, :, 0])\n",
        "plt.colorbar()\n",
        "plt.show()\n",
        "\n",
        "# Нейросеть делает предсказание\n",
        "predictions = model.predict(img)[0]\n",
        "\n",
        "# Выбираем элемент, в котором она наиболее уверена\n",
        "label_predicted = np.argmax(predictions)\n",
        "name_predicted = class_names[label_predicted]\n",
        "\n",
        "print(\"I think tis is... \" + name_predicted + \"!\")\n",
        "\n",
        "print(\"~~~~~~~~~~~~~~~\")\n",
        "\n",
        "for name, score in zip(class_names, predictions):\n",
        "  print(\"%s: %.3f\" % (name, score))\n",
        "  \n",
        "print(\"~~~~~~~~~~~~~~~\")\n",
        "print(\"Label says it is \" + class_names[label_real])"
      ],
      "execution_count": 0,
      "outputs": []
    }
  ]
}