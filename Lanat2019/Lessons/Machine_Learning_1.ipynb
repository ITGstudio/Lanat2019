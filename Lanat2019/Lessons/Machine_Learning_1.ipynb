{
  "nbformat": 4,
  "nbformat_minor": 0,
  "metadata": {
    "colab": {
      "name": "Machine Learning 1.ipynb",
      "version": "0.3.2",
      "provenance": [],
      "collapsed_sections": [],
      "include_colab_link": true
    },
    "kernelspec": {
      "name": "python3",
      "display_name": "Python 3"
    }
  },
  "cells": [
    {
      "cell_type": "markdown",
      "metadata": {
        "id": "view-in-github",
        "colab_type": "text"
      },
      "source": [
        "<a href=\"https://colab.research.google.com/github/LotusBro98/Lanat2019/blob/master/Lanat2019/Lessons/Machine_Learning_1.ipynb\" target=\"_parent\"><img src=\"https://colab.research.google.com/assets/colab-badge.svg\" alt=\"Open In Colab\"/></a>"
      ]
    },
    {
      "cell_type": "markdown",
      "metadata": {
        "id": "MlUFzqKw5R6c",
        "colab_type": "text"
      },
      "source": [
        "# Машинное обучение\n",
        "## Занятие 1. Основы\n",
        "### [Open in Google Colab](https://colab.research.google.com/github/LotusBro98/Lanat2019/blob/master/Lessons/Machine_Learning_1.ipynb#scrollTo=_lm7unL06NFP)\n",
        "\n",
        "---\n",
        "\n",
        "<table>\n",
        "  <tr>\n",
        "    <td width=\"50%\" rowspan=\"2\"><img src=\"https://pm1.narvii.com/6848/8588abbd8f81f22e0b728beb01ad5351501fd867v2_hq.jpg\"></td>\n",
        "    <td width=\"50%\"><img src=\"https://i.pinimg.com/originals/ec/7c/6b/ec7c6b7cb668bdb7a419c9ce9d8969d1.png\"></td>\n",
        "  </tr>\n",
        "  <tr><td height=\"100%\"></td></tr>\n",
        "</table>\n",
        "\n",
        "---"
      ]
    },
    {
      "cell_type": "code",
      "metadata": {
        "id": "cxkxQs_1LDOn",
        "colab_type": "code",
        "colab": {}
      },
      "source": [
        "%matplotlib inline\n",
        "import matplotlib.pyplot as plt\n",
        "import numpy as np\n",
        "from typing import List"
      ],
      "execution_count": 0,
      "outputs": []
    },
    {
      "cell_type": "markdown",
      "metadata": {
        "id": "_7G5rqWRylAp",
        "colab_type": "text"
      },
      "source": [
        "Допустим, существует некая закономерность, по которой можно отделить мальчиков от девочек, знае рост и вес. \n",
        "Пусть этот \"закон природы\" выражается с  помощью математической функции (она нам неизвестна, но мы предполагаем, что она есть)\n",
        "\n",
        "На этом занятии будет показано, как с помощью машинного обучения найти неизвестную закономерность по экспериментальным данным."
      ]
    },
    {
      "cell_type": "code",
      "metadata": {
        "id": "O1-7mbAR6jOm",
        "colab_type": "code",
        "colab": {}
      },
      "source": [
        "# Рост и  вес приведены к масштабу от 0 до 1\n",
        "def real_chan_kun_func(h: np.ndarray, w: np.ndarray) -> np.ndarray:\n",
        "  return np.clip((h - w) * 10, -1, 1)"
      ],
      "execution_count": 0,
      "outputs": []
    },
    {
      "cell_type": "markdown",
      "metadata": {
        "id": "SzmuVG9gyQso",
        "colab_type": "text"
      },
      "source": [
        "Построим график распределения \"закона природы\"<br/>\n",
        "Синий - область, соответствующая мальчикам,<br/>\n",
        "Красный - девочкам,<br/>\n",
        "Белый переход - зона неопределенности"
      ]
    },
    {
      "cell_type": "code",
      "metadata": {
        "id": "jA3sSP2Zeq77",
        "colab_type": "code",
        "colab": {}
      },
      "source": [
        "def get_distribution(func, N=25):\n",
        "  xs = np.linspace(1, 0, N)\n",
        "  ys = np.linspace(1, 0, N)\n",
        "\n",
        "  xs = np.repeat([xs], N, axis=0)\n",
        "  ys = np.repeat(np.transpose([ys]), N, axis=1)\n",
        "\n",
        "  dist = func(xs, ys)\n",
        "  return dist\n",
        "\n",
        "dist = get_distribution(real_chan_kun_func)\n",
        "plt.xlabel(\"Рост\")\n",
        "plt.ylabel(\"Вес\")\n",
        "plt.imshow(dist, origin=\"lower\", cmap=\"RdBu\", interpolation='nearest', extent=(0, 1, 0, 1))\n",
        "plt.colorbar()\n",
        "plt.show()"
      ],
      "execution_count": 0,
      "outputs": []
    },
    {
      "cell_type": "markdown",
      "metadata": {
        "id": "lmWlwCxn5ETl",
        "colab_type": "text"
      },
      "source": [
        "## Сбор данных"
      ]
    },
    {
      "cell_type": "code",
      "metadata": {
        "id": "jgPerYeiLOal",
        "colab_type": "code",
        "colab": {}
      },
      "source": [
        "# Создадим группу из N человек\n",
        "N_PEOPLE = 20\n",
        "\n",
        "weights = np.random.randint(10, 100, N_PEOPLE)\n",
        "heights = np.random.randint(100, 200, N_PEOPLE)\n",
        "\n",
        "ax = plt.subplot()\n",
        "ax.plot(heights, weights, 'o')\n",
        "plt.xlabel(\"Рост\")\n",
        "plt.ylabel(\"Вес\")\n",
        "plt.show()"
      ],
      "execution_count": 0,
      "outputs": []
    },
    {
      "cell_type": "markdown",
      "metadata": {
        "id": "d5plV0a1yVaq",
        "colab_type": "text"
      },
      "source": [
        "Теперь представим, что мы спросили каждого человека, кто он, и закон выполнялся."
      ]
    },
    {
      "cell_type": "code",
      "metadata": {
        "id": "cWPqFni1aQga",
        "colab_type": "code",
        "colab": {}
      },
      "source": [
        "# Приводим к одному виду\n",
        "w = weights / 100\n",
        "h = heights / 100 - 1\n",
        "\n",
        "# Определяем, мальчик или девочка по заданной функции\n",
        "chan_kuns_genders = real_chan_kun_func(h, w)\n",
        "chan_kuns = list(zip(w, h, chan_kuns_genders))\n",
        "\n",
        "# Отделяем девочек от мальчиков\n",
        "chans = list(filter(lambda man: man[2] >= 0, chan_kuns))\n",
        "kuns =  list(filter(lambda man: man[2] <  0, chan_kuns))\n",
        "\n",
        "# Сохраняем отдельно вес и рост\n",
        "chans_weights = list(map(lambda chan: chan[0], chans))\n",
        "chans_heights = list(map(lambda chan: chan[1], chans))\n",
        "\n",
        "# Сохраняем отдельно вес и рост\n",
        "kuns_weights = list(map(lambda kun: kun[0], kuns))\n",
        "kuns_heights = list(map(lambda kun: kun[1], kuns))\n",
        "\n",
        "# Рисуем график\n",
        "ax = plt.subplot()\n",
        "ax.set_xlim(0, 1)\n",
        "ax.set_ylim(0, 1)\n",
        "ax.set_aspect('equal')\n",
        "plt.xlabel(\"Рост\")\n",
        "plt.ylabel(\"Вес\")\n",
        "ax.plot(kuns_heights, kuns_weights, 'bo')\n",
        "ax.plot(chans_heights, chans_weights, 'ro')\n",
        "plt.show()"
      ],
      "execution_count": 0,
      "outputs": []
    },
    {
      "cell_type": "markdown",
      "metadata": {
        "id": "u9wm51cG5Msi",
        "colab_type": "text"
      },
      "source": [
        "## Построение модели"
      ]
    },
    {
      "cell_type": "markdown",
      "metadata": {
        "id": "5UxB1DOTx0bU",
        "colab_type": "text"
      },
      "source": [
        "Теперь попробуем построить модель, которая будет приближаться к настоящему закону. <br/><br/>\n",
        "Построим модель 1 нейрона с 2 входами"
      ]
    },
    {
      "cell_type": "markdown",
      "metadata": {
        "id": "342YTSFbLxCC",
        "colab_type": "text"
      },
      "source": [
        "f(x, y) = x *  wx + y * wy + b"
      ]
    },
    {
      "cell_type": "code",
      "metadata": {
        "id": "PWxT7sPjnhmZ",
        "colab_type": "code",
        "colab": {}
      },
      "source": [
        "class Neuron():\n",
        "  weight_x = np.random.normal()\n",
        "  weight_y = np.random.normal()\n",
        "  bias = np.random.normal()\n",
        "  activation = np.tanh\n",
        "  \n",
        "  def __call__(self, x, y):\n",
        "    return self.activation(x * self.weight_x + y * self.weight_y + self.bias)\n",
        "  \n",
        "model = Neuron()"
      ],
      "execution_count": 0,
      "outputs": []
    },
    {
      "cell_type": "markdown",
      "metadata": {
        "id": "5ETOI65R6wSu",
        "colab_type": "text"
      },
      "source": [
        "Посмотрим на график распределения необученного нейрона"
      ]
    },
    {
      "cell_type": "code",
      "metadata": {
        "id": "9svljj5d35g8",
        "colab_type": "code",
        "colab": {}
      },
      "source": [
        "dist = get_distribution(model)\n",
        "plt.xlabel(\"Рост\")\n",
        "plt.ylabel(\"Вес\")\n",
        "plt.imshow(dist, origin=\"lower\", cmap=\"RdBu\", interpolation='nearest', extent=(0, 1, 0, 1))\n",
        "plt.colorbar()\n",
        "plt.show()"
      ],
      "execution_count": 0,
      "outputs": []
    },
    {
      "cell_type": "markdown",
      "metadata": {
        "id": "o8BQezIa3aTq",
        "colab_type": "text"
      },
      "source": [
        "Чтобы обучить наш нейрон, используем известные экспериментальные данные."
      ]
    },
    {
      "cell_type": "markdown",
      "metadata": {
        "id": "K9FGKtI55RK2",
        "colab_type": "text"
      },
      "source": [
        "## Обучение модели"
      ]
    },
    {
      "cell_type": "markdown",
      "metadata": {
        "id": "59azEC5U5ang",
        "colab_type": "text"
      },
      "source": [
        "Для начала научим нашу модель оценивать саму себя.\n",
        "Тогда она сможет обучаться автоматически, чтобы улучшить эту оценку. <br/>\n",
        "Определим функцию потерь (loss function), которая показывает, насколько сильно отличается истинное распределение от предсказываемого."
      ]
    },
    {
      "cell_type": "code",
      "metadata": {
        "id": "3yi7vqvy312y",
        "colab_type": "code",
        "colab": {}
      },
      "source": [
        "# Среднеквадратичное отклонение\n",
        "def loss(genders_real: np.ndarray, genders_predicted: np.ndarray):\n",
        "  sqdiff = np.square(genders_real - genders_predicted)\n",
        "  avg = np.average(sqdiff,  axis=-1)\n",
        "  return np.sqrt(avg)"
      ],
      "execution_count": 0,
      "outputs": []
    },
    {
      "cell_type": "code",
      "metadata": {
        "id": "VI5yGeHc8Cea",
        "colab_type": "code",
        "colab": {}
      },
      "source": [
        "# теперь оценим нашу функцию\n",
        "\n",
        "def loss_process(func):\n",
        "  return loss(chan_kuns_genders, func(h, w))\n",
        "\n",
        "loss_neuron = loss_process(model)\n",
        "\n",
        "print(loss_neuron)"
      ],
      "execution_count": 0,
      "outputs": []
    },
    {
      "cell_type": "markdown",
      "metadata": {
        "id": "qVGf7iuF-NUG",
        "colab_type": "text"
      },
      "source": [
        "Попробуем немного улучшить оценку, подправив внутренние параметры нейрона "
      ]
    },
    {
      "cell_type": "code",
      "metadata": {
        "id": "9Yiqp2Uq9D1p",
        "colab_type": "code",
        "colab": {}
      },
      "source": [
        "def train_step(neuron, delta = 0.001, learning_rate=0.5):\n",
        "  # \"Тупо\" меняем параметры и смотрим, насколько улучшилась оценка, а затем меняем параметры в сторону улучшения.\n",
        "  # На практике используют метод градиентного спуска, суть его примерно такая же, но алгоритм вычисления намного более эффективен.\n",
        "  \n",
        "  L = loss_process(neuron)\n",
        "  neuron.weight_x += delta\n",
        "  L_dx = loss_process(neuron)\n",
        "  neuron.weight_x -= delta\n",
        "  \n",
        "  neuron.weight_y += delta\n",
        "  L_dy = loss_process(neuron)\n",
        "  neuron.weight_y -= delta\n",
        "  \n",
        "  neuron.bias += delta\n",
        "  L_db = loss_process(neuron)\n",
        "  neuron.bias -= delta\n",
        "  \n",
        "  dL_dx = (L_dx - L) / delta\n",
        "  dL_dy = (L_dy - L) / delta\n",
        "  dL_db = (L_db - L) / delta\n",
        "  \n",
        "  neuron.weight_x -= dL_dx * learning_rate\n",
        "  neuron.weight_y -= dL_dy * learning_rate\n",
        "  neuron.bias     -= dL_db * learning_rate\n",
        "\n",
        "train_step(model)\n",
        "print(loss_process(model))"
      ],
      "execution_count": 0,
      "outputs": []
    },
    {
      "cell_type": "markdown",
      "metadata": {
        "id": "GIZ9jSPwBdqY",
        "colab_type": "text"
      },
      "source": [
        "Как можно видеть, оценка улучшилась (значение функции потерь стало меньше). Посмторим,  что стало с графиком распределениея нашего нейрона."
      ]
    },
    {
      "cell_type": "code",
      "metadata": {
        "id": "_pQNCGcg-38J",
        "colab_type": "code",
        "colab": {}
      },
      "source": [
        "dist = get_distribution(model)\n",
        "plt.xlabel(\"Рост\")\n",
        "plt.ylabel(\"Вес\")\n",
        "plt.imshow(dist, origin=\"lower\", cmap=\"RdBu\", interpolation='nearest', extent=(0, 1, 0, 1))\n",
        "plt.colorbar()\n",
        "plt.show()"
      ],
      "execution_count": 0,
      "outputs": []
    },
    {
      "cell_type": "markdown",
      "metadata": {
        "id": "rHn21b5eB3i0",
        "colab_type": "text"
      },
      "source": [
        "Он немного сместился в нужном направлении. <br/>\n",
        "\n",
        "Теперь запустим обучение в цикле."
      ]
    },
    {
      "cell_type": "code",
      "metadata": {
        "id": "bQoF_tiZCC0L",
        "colab_type": "code",
        "colab": {}
      },
      "source": [
        "%%capture\n",
        "%matplotlib inline\n",
        "import matplotlib.pyplot as plt\n",
        "import matplotlib.animation\n",
        "plt.rcParams[\"animation.html\"] = \"jshtml\"\n",
        "N_FRAMES = 100\n",
        "\n",
        "#model = neuron()\n",
        "\n",
        "fig, ax = plt.subplots()\n",
        "dist_plot = ax.imshow([[]], origin=\"lower\", cmap=\"RdBu\", interpolation='nearest', extent=(0, 1, 0, 1))\n",
        "ax.plot(kuns_heights, kuns_weights, 'bo')\n",
        "ax.plot(chans_heights, chans_weights, 'ro')\n",
        "plt.xlabel(\"Рост\")\n",
        "plt.ylabel(\"Вес\")\n",
        "plt.show()\n",
        "\n",
        "def animation_step(i):\n",
        "  train_step(model)\n",
        "  dist = get_distribution(model)\n",
        "  dist_plot.set_data(dist)\n",
        "  \n",
        "  \n",
        "ani = matplotlib.animation.FuncAnimation(fig, animation_step, frames=N_FRAMES)"
      ],
      "execution_count": 0,
      "outputs": []
    },
    {
      "cell_type": "code",
      "metadata": {
        "id": "ChFL27cPIzrC",
        "colab_type": "code",
        "colab": {}
      },
      "source": [
        "ani"
      ],
      "execution_count": 0,
      "outputs": []
    },
    {
      "cell_type": "markdown",
      "metadata": {
        "id": "K4htrEI-n3R_",
        "colab_type": "text"
      },
      "source": [
        "# А теперь поиграем в песочнице!\n",
        "\n",
        "## [playground.tensorflow.org](http://playground.tensorflow.org)"
      ]
    }
  ]
}